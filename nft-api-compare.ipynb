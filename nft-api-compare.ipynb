{
 "cells": [
  {
   "cell_type": "markdown",
   "source": "",
   "metadata": {
    "cell_id": "e01928e072b647869076f189d9c8726f",
    "tags": [],
    "deepnote_app_coordinates": {
     "x": 0,
     "y": 1,
     "w": 12,
     "h": 5
    },
    "deepnote_cell_type": "markdown",
    "deepnote_cell_height": 46
   }
  },
  {
   "cell_type": "markdown",
   "source": "## NFT API Comparison\n\nTrying out Alchemy, Moralis, Simplehash, NFTPort, and anything else I come across over time. As a starting point, I'll test with a super-simple use case - getting the full list of wallets that hold an NFT from a specific collection. This can be the basis of later analysis on those wallets, etc.",
   "metadata": {
    "cell_id": "5491c22cb469468d833580c0f3070679",
    "tags": [],
    "deepnote_app_coordinates": {
     "x": 0,
     "y": 7,
     "w": 12,
     "h": 5
    },
    "deepnote_cell_type": "markdown",
    "deepnote_cell_height": 153.1875
   }
  },
  {
   "cell_type": "markdown",
   "source": "## Setup\n\nFirst, I'll load up the various API keys and URLs for each of the service providers I'm using, and then choose an contract address.",
   "metadata": {
    "cell_id": "6caa4ea9ea4240d4869d1c5eb0ebc167",
    "tags": [],
    "deepnote_app_coordinates": {
     "x": 0,
     "y": 19,
     "w": 12,
     "h": 5
    },
    "deepnote_cell_type": "markdown",
    "deepnote_cell_height": 108.390625
   }
  },
  {
   "cell_type": "code",
   "metadata": {
    "cell_id": "e189d198f25c4d2084bb4fd8523ee80b",
    "tags": [],
    "deepnote_to_be_reexecuted": false,
    "source_hash": "868135af",
    "execution_start": 1658205839612,
    "execution_millis": 0,
    "deepnote_app_coordinates": {
     "x": 0,
     "y": 31,
     "w": 12,
     "h": 5
    },
    "deepnote_cell_type": "code",
    "deepnote_cell_height": 135
   },
   "source": "# General setup\nimport pandas as pd\nimport requests\nimport os",
   "execution_count": null,
   "outputs": []
  },
  {
   "cell_type": "code",
   "metadata": {
    "cell_id": "6ad6a9d8362d450d8acedfa321a980d5",
    "deepnote_variable_name": "nft_contract_address",
    "deepnote_variable_value": "0x13bfb6bd5b9e1e943dc08c1ff7b8fca2d06b20b2",
    "deepnote_to_be_reexecuted": false,
    "source_hash": "a581c96f",
    "execution_start": 1658207006182,
    "execution_millis": 3,
    "deepnote_cell_type": "input-text"
   },
   "source": "nft_contract_address = '0x13bfb6bd5b9e1e943dc08c1ff7b8fca2d06b20b2'",
   "execution_count": 1,
   "outputs": []
  },
  {
   "cell_type": "code",
   "metadata": {
    "cell_id": "adfb63bcc849478db1d193d2caf5b783",
    "tags": [],
    "deepnote_to_be_reexecuted": false,
    "source_hash": "89e968a9",
    "execution_start": 1658205841812,
    "execution_millis": 2,
    "deepnote_app_coordinates": {
     "x": 0,
     "y": 25,
     "w": 12,
     "h": 5
    },
    "deepnote_cell_type": "code",
    "deepnote_cell_height": 549
   },
   "source": "# API Keys\nsh_api = os.environ[\"SH_API\"]\nal_api = os.environ[\"AL_API\"]\nms_api = os.environ[\"MS_API\"]\nnp_api = os.environ[\"NP_API\"]\n\n# URLs\nsh_url = 'https://api.simplehash.com/api/v0/nfts/owners/ethereum/' + nft_contract_address\nal_url = 'https://eth-mainnet.g.alchemy.com/nft/v2/' + al_api + '/getOwnersForCollection/?contractAddress=' + nft_contract_address + '&withTokenBalances=true'\nms_url = 'https://deep-index.moralis.io/api/v2/nft/' + nft_contract_address + '/owners?chain=eth&format=decimal'\nnp_url = 'https://api.nftport.xyz/v0/nfts/' + nft_contract_address + '?chain=ethereum'\n\n# Headers for the ones that need it\nsh_headers = {\n    \"Accept\": \"application/json\",\n    \"X-API-KEY\": sh_api\n}\n\nms_headers = {\n    \"accept\": \"application/json\",\n    \"x-api-key\": ms_api\n}\n\nnp_headers = {\n    \"Authorization\": np_api,\n    \"Content-Type\": \"application/json\"\n}",
   "execution_count": null,
   "outputs": []
  },
  {
   "cell_type": "markdown",
   "source": "## SimpleHash",
   "metadata": {
    "cell_id": "bef574bf75784f6b8098baaf941dde46",
    "tags": [],
    "deepnote_app_coordinates": {
     "x": 0,
     "y": 43,
     "w": 12,
     "h": 5
    },
    "deepnote_cell_type": "markdown",
    "deepnote_cell_height": 70
   }
  },
  {
   "cell_type": "code",
   "metadata": {
    "tags": [],
    "cell_id": "a9fe17e8-f655-44ec-a36c-287a1685b5cf",
    "deepnote_to_be_reexecuted": false,
    "source_hash": "fbc3ff33",
    "execution_start": 1658205844162,
    "execution_millis": 3324,
    "deepnote_table_state": {
     "pageSize": 10,
     "pageIndex": 0,
     "filters": [],
     "sortBy": []
    },
    "deepnote_table_loading": false,
    "deepnote_app_coordinates": {
     "x": 0,
     "y": 13,
     "w": 12,
     "h": 5
    },
    "deepnote_cell_type": "code",
    "deepnote_cell_height": 315
   },
   "source": "# SimpleHash dataframe\n\nsh_df = pd.DataFrame()\n\nwhile sh_url != None:\n    response = requests.get(sh_url, headers = sh_headers)\n    json = response.json()\n\n    if sh_df.empty:\n        sh_df = pd.DataFrame(json['owners'])\n    else:\n        sh_df2 = pd.DataFrame(json['owners'])\n        sh_df = pd.concat([sh_df, sh_df2], sort = False)\n    sh_url = json['next']",
   "execution_count": null,
   "outputs": []
  },
  {
   "cell_type": "code",
   "metadata": {
    "cell_id": "9ad73f73c93d480e9462e258aee1c53b",
    "tags": [],
    "deepnote_to_be_reexecuted": false,
    "source_hash": "6c493c0a",
    "execution_start": 1658205849636,
    "execution_millis": 45,
    "deepnote_app_coordinates": {
     "x": 0,
     "y": 37,
     "w": 12,
     "h": 5
    },
    "output_cleared": true,
    "deepnote_cell_type": "code",
    "deepnote_cell_height": 81
   },
   "source": "sh_df",
   "execution_count": null,
   "outputs": []
  },
  {
   "cell_type": "markdown",
   "source": "## Alchemy",
   "metadata": {
    "cell_id": "852d82f00c3c430abc0bea912e271dbc",
    "tags": [],
    "deepnote_app_coordinates": {
     "x": 0,
     "y": 49,
     "w": 12,
     "h": 5
    },
    "deepnote_cell_type": "markdown",
    "deepnote_cell_height": 70
   }
  },
  {
   "cell_type": "code",
   "metadata": {
    "cell_id": "206c372de473473e89a7f0edf8132054",
    "tags": [],
    "deepnote_to_be_reexecuted": false,
    "source_hash": "58d07267",
    "execution_start": 1658205859266,
    "execution_millis": 609,
    "deepnote_app_coordinates": {
     "x": 0,
     "y": 55,
     "w": 12,
     "h": 5
    },
    "output_cleared": true,
    "deepnote_cell_type": "code",
    "deepnote_cell_height": 117,
    "deepnote_output_heights": [
     606.1875
    ]
   },
   "source": "response = requests.get(al_url)\njson = response.json()\nal_df = pd.DataFrame(json['ownerAddresses'])",
   "execution_count": null,
   "outputs": []
  },
  {
   "cell_type": "code",
   "metadata": {
    "cell_id": "65802039d6a3475ead32d4d9f8b502d2",
    "tags": [],
    "deepnote_to_be_reexecuted": false,
    "source_hash": "b9427fc",
    "execution_start": 1658188780600,
    "execution_millis": 55,
    "deepnote_table_state": {
     "pageSize": 100,
     "pageIndex": 1,
     "filters": [],
     "sortBy": []
    },
    "deepnote_table_loading": false,
    "deepnote_app_coordinates": {
     "x": 0,
     "y": 61,
     "w": 12,
     "h": 5
    },
    "output_cleared": true,
    "deepnote_cell_type": "code",
    "deepnote_cell_height": 81
   },
   "source": "al_df",
   "execution_count": null,
   "outputs": []
  },
  {
   "cell_type": "markdown",
   "source": "## Moralis",
   "metadata": {
    "cell_id": "cef71f9535ca438680083534f7a5b1c0",
    "tags": [],
    "deepnote_cell_type": "markdown",
    "deepnote_cell_height": 70
   }
  },
  {
   "cell_type": "code",
   "metadata": {
    "cell_id": "a18554a655494008b35100a79fdef29e",
    "tags": [],
    "deepnote_to_be_reexecuted": false,
    "source_hash": "ce9e3ce4",
    "execution_start": 1658205875430,
    "execution_millis": 21063,
    "output_cleared": true,
    "owner_user_id": "7b48b4ab-807d-48c9-b899-fb77474042f8",
    "deepnote_cell_type": "code",
    "deepnote_cell_height": 567
   },
   "source": "# Moralis dataframe\n\nimport time\n\nms_df = pd.DataFrame()\nms_url = 'https://deep-index.moralis.io/api/v2/nft/' + nft_contract_address + '/owners?chain=eth&format=decimal'\n\nresponse = requests.get(ms_url, headers = ms_headers)\njson = response.json()\nprint(json.keys())\n\nms_df = pd.DataFrame(json['result'])\n\nprev_page = json['page'] - 1\npage_size = json['page_size']\n\nprint(json['cursor'])\n\nwhile (prev_page*100+json['page']*100) < json['total']:\n    ms_url2 = ms_url + '&cursor=' + json['cursor']\n    response = requests.get(ms_url2, headers = ms_headers)\n    print(ms_url2)\n    json = response.json()\n    ms_df2 = pd.DataFrame(json['result'])\n    ms_df = pd.concat([ms_df, ms_df2], sort = False)\n    prev_page = json['page'] - 1\n    page_size = json['page_size']\n    time.sleep(1)",
   "execution_count": null,
   "outputs": []
  },
  {
   "cell_type": "code",
   "metadata": {
    "cell_id": "b0766b9ce8a04ae895c4d4b8ac00abbd",
    "tags": [],
    "deepnote_to_be_reexecuted": false,
    "source_hash": "3020d3c6",
    "execution_start": 1658205910912,
    "execution_millis": 28,
    "deepnote_table_state": {
     "pageSize": 10,
     "pageIndex": 0,
     "filters": [],
     "sortBy": [
      {
       "id": "token_id",
       "type": "asc"
      }
     ]
    },
    "deepnote_table_loading": false,
    "output_cleared": true,
    "deepnote_cell_type": "code",
    "deepnote_cell_height": 117,
    "deepnote_output_heights": [
     309.1875
    ]
   },
   "source": "ms_df\n\nms_df.nunique()",
   "execution_count": null,
   "outputs": []
  },
  {
   "cell_type": "markdown",
   "source": "## NFT Port",
   "metadata": {
    "cell_id": "270969f634c345febd85103b6755735f",
    "tags": [],
    "deepnote_cell_type": "markdown",
    "deepnote_cell_height": 70
   }
  },
  {
   "cell_type": "code",
   "metadata": {
    "cell_id": "6502a9d48abb4f42ab0555c2bc62d399",
    "tags": [],
    "deepnote_to_be_reexecuted": false,
    "source_hash": "911b663b",
    "execution_start": 1658205914450,
    "execution_millis": 82757,
    "output_cleared": true,
    "deepnote_cell_type": "code",
    "deepnote_cell_height": 477
   },
   "source": "np_page = 1\nnp_url = np_url + '&page_number=' + str(np_page)\n\n# First page of results\nresponse = requests.get(np_url, headers = np_headers)\njson = response.json()\nnp_total = json['total']\nnp_remaining = np_total\n\nnp_df = pd.DataFrame()\n\nwhile np_remaining > 0 :\n    response = requests.get(np_url, headers = np_headers)\n    json = response.json()\n    print(json.keys())\n\n    if np_df.empty:\n        np_df = pd.DataFrame(json['nfts'])\n    else:\n        np_df2 = pd.DataFrame(json['nfts'])\n        np_df = pd.concat([np_df, np_df2], sort = False)\n    np_remaining = np_remaining - len(json['nfts'])\n    time.sleep(1)",
   "execution_count": null,
   "outputs": []
  },
  {
   "cell_type": "code",
   "metadata": {
    "cell_id": "542ed9cfb9f146139abe7e7f7df71ca5",
    "tags": [],
    "deepnote_to_be_reexecuted": false,
    "source_hash": "e435cb85",
    "execution_start": 1658196575186,
    "execution_millis": 112,
    "deepnote_table_state": {
     "pageSize": 10,
     "pageIndex": 317,
     "filters": [],
     "sortBy": []
    },
    "deepnote_table_loading": false,
    "output_cleared": true,
    "deepnote_cell_type": "code",
    "deepnote_cell_height": 81
   },
   "source": "np_df",
   "execution_count": null,
   "outputs": []
  },
  {
   "cell_type": "markdown",
   "source": "<a style='text-decoration:none;line-height:16px;display:flex;color:#5B5B62;padding:10px;justify-content:end;' href='https://deepnote.com?utm_source=created-in-deepnote-cell&projectId=9b890fc1-911b-465c-9362-c122b6eafef2' target=\"_blank\">\n<img alt='Created in deepnote.com' style='display:inline;max-height:16px;margin:0px;margin-right:7.5px;' src='data:image/svg+xml;base64,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' > </img>\nCreated in <span style='font-weight:600;margin-left:4px;'>Deepnote</span></a>",
   "metadata": {
    "tags": [],
    "created_in_deepnote_cell": true,
    "deepnote_cell_type": "markdown"
   }
  }
 ],
 "nbformat": 4,
 "nbformat_minor": 2,
 "metadata": {
  "orig_nbformat": 2,
  "deepnote": {},
  "deepnote_notebook_id": "b5f7f65f-862d-4573-8006-61c8a324be53",
  "deepnote_execution_queue": [],
  "deepnote_app_layout": "article"
 }
}